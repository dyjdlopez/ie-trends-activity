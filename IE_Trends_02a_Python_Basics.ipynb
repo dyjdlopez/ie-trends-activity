{
  "nbformat": 4,
  "nbformat_minor": 0,
  "metadata": {
    "colab": {
      "name": "IE Trends 02a - Python Basics",
      "provenance": [],
      "authorship_tag": "ABX9TyPzyvd8gqeWQ1mwTMUizL4m",
      "include_colab_link": true
    },
    "kernelspec": {
      "name": "python3",
      "display_name": "Python 3"
    },
    "language_info": {
      "name": "python"
    }
  },
  "cells": [
    {
      "cell_type": "markdown",
      "metadata": {
        "id": "view-in-github",
        "colab_type": "text"
      },
      "source": [
        "<a href=\"https://colab.research.google.com/github/dyjdlopez/ie-trends-activity/blob/main/IE_Trends_02a_Python_Basics.ipynb\" target=\"_parent\"><img src=\"https://colab.research.google.com/assets/colab-badge.svg\" alt=\"Open In Colab\"/></a>"
      ]
    },
    {
      "cell_type": "markdown",
      "metadata": {
        "id": "ROPBxQt5R4S5"
      },
      "source": [
        "# Python for Data Analytics"
      ]
    },
    {
      "cell_type": "markdown",
      "metadata": {
        "id": "-8WDUR4m3g6v"
      },
      "source": [
        "## Python Basics"
      ]
    },
    {
      "cell_type": "markdown",
      "metadata": {
        "id": "QskHFpai3yuW"
      },
      "source": [
        "### All the Programming Fundamentals"
      ]
    },
    {
      "cell_type": "markdown",
      "metadata": {
        "id": "n9_Hb_XE4kI_"
      },
      "source": [
        "#### Variables and Values"
      ]
    },
    {
      "cell_type": "code",
      "metadata": {
        "id": "CuoKDZmFRdoc"
      },
      "source": [
        ""
      ],
      "execution_count": null,
      "outputs": []
    },
    {
      "cell_type": "markdown",
      "metadata": {
        "id": "D6_UGjx84vdP"
      },
      "source": [
        "#### Printing"
      ]
    },
    {
      "cell_type": "code",
      "metadata": {
        "id": "SY68hNlM40i8"
      },
      "source": [
        ""
      ],
      "execution_count": null,
      "outputs": []
    },
    {
      "cell_type": "markdown",
      "metadata": {
        "id": "FXXC47KQ408_"
      },
      "source": [
        "#### Operations"
      ]
    },
    {
      "cell_type": "markdown",
      "metadata": {
        "id": "HIDF03Qq3n23"
      },
      "source": [
        "### Functions\n",
        "\n",
        "\n"
      ]
    },
    {
      "cell_type": "code",
      "metadata": {
        "id": "mb128f703qIv"
      },
      "source": [
        ""
      ],
      "execution_count": null,
      "outputs": []
    }
  ]
}