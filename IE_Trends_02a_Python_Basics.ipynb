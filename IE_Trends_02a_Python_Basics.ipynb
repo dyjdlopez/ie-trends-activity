{
  "nbformat": 4,
  "nbformat_minor": 0,
  "metadata": {
    "colab": {
      "name": "IE Trends 02a - Python Basics",
      "provenance": [],
      "authorship_tag": "ABX9TyO1At7l/vB5jqq2z7zSTd3T",
      "include_colab_link": true
    },
    "kernelspec": {
      "name": "python3",
      "display_name": "Python 3"
    },
    "language_info": {
      "name": "python"
    }
  },
  "cells": [
    {
      "cell_type": "markdown",
      "metadata": {
        "id": "view-in-github",
        "colab_type": "text"
      },
      "source": [
        "<a href=\"https://colab.research.google.com/github/dyjdlopez/ie-trends-activity/blob/main/IE_Trends_02a_Python_Basics.ipynb\" target=\"_parent\"><img src=\"https://colab.research.google.com/assets/colab-badge.svg\" alt=\"Open In Colab\"/></a>"
      ]
    },
    {
      "cell_type": "markdown",
      "metadata": {
        "id": "ROPBxQt5R4S5"
      },
      "source": [
        "# Python for Data Analytics"
      ]
    },
    {
      "cell_type": "markdown",
      "metadata": {
        "id": "-8WDUR4m3g6v"
      },
      "source": [
        "## Python Basics"
      ]
    },
    {
      "cell_type": "markdown",
      "metadata": {
        "id": "QskHFpai3yuW"
      },
      "source": [
        "### All the Programming Fundamentals"
      ]
    },
    {
      "cell_type": "markdown",
      "metadata": {
        "id": "n9_Hb_XE4kI_"
      },
      "source": [
        "#### Variables and Values"
      ]
    },
    {
      "cell_type": "code",
      "metadata": {
        "id": "CuoKDZmFRdoc"
      },
      "source": [
        "x = 10\n",
        "y = 3.14"
      ],
      "execution_count": 10,
      "outputs": []
    },
    {
      "cell_type": "markdown",
      "metadata": {
        "id": "D6_UGjx84vdP"
      },
      "source": [
        "#### Printing"
      ]
    },
    {
      "cell_type": "code",
      "metadata": {
        "id": "SY68hNlM40i8",
        "colab": {
          "base_uri": "https://localhost:8080/"
        },
        "outputId": "a8ecf643-c10b-4879-8e75-ea28175f604b"
      },
      "source": [
        "print(x)"
      ],
      "execution_count": 11,
      "outputs": [
        {
          "output_type": "stream",
          "text": [
            "10\n"
          ],
          "name": "stdout"
        }
      ]
    },
    {
      "cell_type": "markdown",
      "metadata": {
        "id": "FXXC47KQ408_"
      },
      "source": [
        "#### Operations"
      ]
    },
    {
      "cell_type": "code",
      "metadata": {
        "colab": {
          "base_uri": "https://localhost:8080/"
        },
        "id": "r_LOlsGjzEB9",
        "outputId": "fb154eb5-2380-4b75-bdde-fc20349c1503"
      },
      "source": [
        "## Addition (also a comment line)\n",
        "z1=x+y\n",
        "## Subtract\n",
        "z2=x-y\n",
        "## Multiplication\n",
        "z3 = x*y\n",
        "## Division\n",
        "z4 = x/y\n",
        "z4"
      ],
      "execution_count": 20,
      "outputs": [
        {
          "output_type": "execute_result",
          "data": {
            "text/plain": [
              "3.184713375796178"
            ]
          },
          "metadata": {
            "tags": []
          },
          "execution_count": 20
        }
      ]
    },
    {
      "cell_type": "markdown",
      "metadata": {
        "id": "pWlZK9eN0VvM"
      },
      "source": [
        "Coding $2^5$"
      ]
    },
    {
      "cell_type": "code",
      "metadata": {
        "colab": {
          "base_uri": "https://localhost:8080/"
        },
        "id": "paMYPl5q0LQu",
        "outputId": "5b4fcc41-5d7e-4282-8f94-aa7a9212ef05"
      },
      "source": [
        "## Exponentiation\n",
        "z5 = 2**5\n",
        "## Floor Division\n",
        "z6 = 19/2\n",
        "## Trigonometric\n",
        "import math\n",
        "# math.sin(y) + math.cos(x)"
      ],
      "execution_count": 29,
      "outputs": [
        {
          "output_type": "stream",
          "text": [
            "10\n"
          ],
          "name": "stdout"
        }
      ]
    },
    {
      "cell_type": "markdown",
      "metadata": {
        "id": "_MgQa0q3113F"
      },
      "source": [
        "$\\sin(y) + \\cos(x)$"
      ]
    },
    {
      "cell_type": "markdown",
      "metadata": {
        "id": "Nwa04kI72u6d"
      },
      "source": [
        "### Loops"
      ]
    },
    {
      "cell_type": "markdown",
      "metadata": {
        "id": "zdg70uAi3xJW"
      },
      "source": [
        "$\\sum {\\sin(i)+\\cos(i+\\pi)}$"
      ]
    },
    {
      "cell_type": "code",
      "metadata": {
        "colab": {
          "base_uri": "https://localhost:8080/"
        },
        "id": "5j8_WSQi2w49",
        "outputId": "81209d58-d16a-4d0b-810f-cf489610ea34"
      },
      "source": [
        "## Summation\n",
        "tz=0\n",
        "for i in range(0,10): ##range(min,max) --> min to max-1\n",
        "  tz += math.sin(i) + math.cos(i+math.pi)\n",
        "  print(tz)"
      ],
      "execution_count": 40,
      "outputs": [
        {
          "output_type": "stream",
          "text": [
            "-1.0\n",
            "-0.6988313210602433\n",
            "0.6266129423125808\n",
            "1.7577254469728933\n",
            "1.6545665725285772\n",
            "0.41198011240221266\n",
            "-0.827605672447079\n",
            "-0.9245213280715947\n",
            "0.2103369523604004\n",
            "1.533585699486834\n"
          ],
          "name": "stdout"
        }
      ]
    },
    {
      "cell_type": "markdown",
      "metadata": {
        "id": "HIDF03Qq3n23"
      },
      "source": [
        "### Functions\n",
        "\n",
        "\n"
      ]
    },
    {
      "cell_type": "markdown",
      "metadata": {
        "id": "oMlZ1zQM6ISn"
      },
      "source": [
        "$S - i^2$"
      ]
    },
    {
      "cell_type": "code",
      "metadata": {
        "id": "mb128f703qIv",
        "colab": {
          "base_uri": "https://localhost:8080/"
        },
        "outputId": "6f2deb3b-b1d8-49e8-d1f5-fc5db37817ff"
      },
      "source": [
        "s=0\n",
        "for i in range(0,10):\n",
        "  s+=i\n",
        "  print(equation1(s,i))"
      ],
      "execution_count": 43,
      "outputs": [
        {
          "output_type": "stream",
          "text": [
            "0\n",
            "0\n",
            "-1\n",
            "-3\n",
            "-6\n",
            "-10\n",
            "-15\n",
            "-21\n",
            "-28\n",
            "-36\n"
          ],
          "name": "stdout"
        }
      ]
    },
    {
      "cell_type": "code",
      "metadata": {
        "id": "G58NlDw46qi3"
      },
      "source": [
        "def equation1(s,i):\n",
        "  return s-i**2"
      ],
      "execution_count": 42,
      "outputs": []
    }
  ]
}